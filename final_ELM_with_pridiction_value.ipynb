{
 "cells": [
  {
   "cell_type": "markdown",
   "id": "b1f55ff2",
   "metadata": {},
   "source": [
    "# here i import some important library "
   ]
  },
  {
   "cell_type": "code",
   "execution_count": 1,
   "id": "c7186bd0",
   "metadata": {},
   "outputs": [],
   "source": [
    "from sklearn.datasets import load_iris\n",
    "from sklearn.model_selection import train_test_split\n",
    "from sklearn.preprocessing import StandardScaler\n",
    "from sklearn.metrics import accuracy_score\n",
    "import numpy as np\n"
   ]
  },
  {
   "cell_type": "markdown",
   "id": "70c75a56",
   "metadata": {},
   "source": [
    "# loading the dataset "
   ]
  },
  {
   "cell_type": "code",
   "execution_count": 2,
   "id": "1a497df8",
   "metadata": {},
   "outputs": [],
   "source": [
    "# after uploading the dataset we extract the independent and dependent features like data and target\n",
    "\n",
    "iris = load_iris()\n",
    "X = iris.data\n",
    "y = iris.target"
   ]
  },
  {
   "cell_type": "code",
   "execution_count": 3,
   "id": "01307009",
   "metadata": {},
   "outputs": [
    {
     "data": {
      "text/plain": [
       "((150, 4), (150,))"
      ]
     },
     "execution_count": 3,
     "metadata": {},
     "output_type": "execute_result"
    }
   ],
   "source": [
    "# checking the shape of the dataset\n",
    "X.shape, y.shape"
   ]
  },
  {
   "cell_type": "code",
   "execution_count": 94,
   "id": "5ea60f91",
   "metadata": {},
   "outputs": [
    {
     "data": {
      "text/plain": [
       "(150, 4)"
      ]
     },
     "execution_count": 94,
     "metadata": {},
     "output_type": "execute_result"
    }
   ],
   "source": [
    "# Normalize the features\n",
    "scaler = StandardScaler()\n",
    "x= scaler.fit_transform(X)\n",
    "x.shape"
   ]
  },
  {
   "cell_type": "code",
   "execution_count": 6,
   "id": "e0f9d599",
   "metadata": {},
   "outputs": [
    {
     "data": {
      "text/plain": [
       "(150, 3)"
      ]
     },
     "execution_count": 6,
     "metadata": {},
     "output_type": "execute_result"
    }
   ],
   "source": [
    "from sklearn.preprocessing import OneHotEncoder\n",
    "onehot=OneHotEncoder()\n",
    "one_hot=onehot.fit_transform(y.reshape(-1,1)).toarray()\n",
    "one_hot.shape"
   ]
  },
  {
   "cell_type": "markdown",
   "id": "73006774",
   "metadata": {},
   "source": [
    "# Spliting the data into x_train,y_train,x_test,y_test"
   ]
  },
  {
   "cell_type": "code",
   "execution_count": 8,
   "id": "b9bbef8f",
   "metadata": {},
   "outputs": [
    {
     "name": "stdout",
     "output_type": "stream",
     "text": [
      "Train size: 105, Test size: 45\n"
     ]
    },
    {
     "data": {
      "text/plain": [
       "((105, 4), (105, 3), (45, 4), (45, 3))"
      ]
     },
     "execution_count": 8,
     "metadata": {},
     "output_type": "execute_result"
    }
   ],
   "source": [
    "from sklearn.model_selection import train_test_split\n",
    "\n",
    "x_train, x_test, y_train, y_test = train_test_split(X,one_hot, test_size=0.3,random_state=None)\n",
    "print('Train size: {train}, Test size: {test}'.format(train=x_train.shape[0], test=x_test.shape[0]))\n",
    "x_train.shape,y_train.shape,x_test.shape,y_test.shape"
   ]
  },
  {
   "cell_type": "code",
   "execution_count": 9,
   "id": "8ca50dba",
   "metadata": {},
   "outputs": [],
   "source": [
    "# inisiallizing the weights and bias,INPUT_LAYER, OUTPUT_LAYER, HIDDEN_LAYER"
   ]
  },
  {
   "cell_type": "code",
   "execution_count": 10,
   "id": "ec592b4b",
   "metadata": {},
   "outputs": [
    {
     "name": "stdout",
     "output_type": "stream",
     "text": [
      "Input Weight shape: (4, 4)\n",
      "Input bias1 shape: (1, 4)\n",
      "Input bias2 shape: (1, 3)\n",
      "4\n"
     ]
    }
   ],
   "source": [
    "INPUT_LENGHT = x_train.shape[1] # 784 \n",
    "HIDDEN_UNITS = 4\n",
    "classes=3\n",
    "\n",
    "Win = np.random.normal(size=[INPUT_LENGHT, HIDDEN_UNITS])\n",
    "bias1 = np.zeros((1, HIDDEN_UNITS))\n",
    "bias2=  np.zeros((1, classes))   \n",
    "\n",
    "print('Input Weight shape: {shape}'.format(shape=Win.shape))\n",
    "print('Input bias1 shape: {shape}'.format(shape=bias1.shape))\n",
    "print('Input bias2 shape: {shape}'.format(shape=bias2.shape))\n",
    "print(x_train.shape[1] )"
   ]
  },
  {
   "cell_type": "code",
   "execution_count": 12,
   "id": "50d62cb4",
   "metadata": {},
   "outputs": [],
   "source": [
    "def sigmoid(x):\n",
    "    return 1/(1+np.exp(-x))"
   ]
  },
  {
   "cell_type": "code",
   "execution_count": 13,
   "id": "ace580d8",
   "metadata": {},
   "outputs": [],
   "source": [
    "# HERE I DONT USE AND ANY ACTIVATION FUNCTION IN OUTPUT LAYER \n",
    "# def softmax( x):\n",
    "#         exps = np.exp(x - np.max(x, axis=1, keepdims=True))\n",
    "#         return exps / np.sum(exps, axis=1, keepdims=True)"
   ]
  },
  {
   "cell_type": "markdown",
   "id": "c23293e9",
   "metadata": {},
   "source": [
    "# HERE THE CALCULATING THE INPUT OF HIDDEN LAYER"
   ]
  },
  {
   "cell_type": "code",
   "execution_count": 14,
   "id": "7914c467",
   "metadata": {},
   "outputs": [],
   "source": [
    "def input_to_hidden(x):\n",
    "    a = sigmoid(np.dot(x, Win)+bias1)\n",
    "    return a"
   ]
  },
  {
   "cell_type": "markdown",
   "id": "0c0ead3f",
   "metadata": {},
   "source": [
    "# Calculating the beta value "
   ]
  },
  {
   "cell_type": "code",
   "execution_count": 17,
   "id": "1855ff43",
   "metadata": {},
   "outputs": [
    {
     "name": "stdout",
     "output_type": "stream",
     "text": [
      "(105, 4)\n",
      "(4, 105)\n",
      "Output beta shape: (4, 3)\n",
      "(4, 105)\n"
     ]
    }
   ],
   "source": [
    "X = input_to_hidden(x_train)\n",
    "print(X.shape)\n",
    "Xt = np.transpose(X)\n",
    "print(Xt.shape)\n",
    "# Wout = np.dot(np.linalg.inv(np.dot(Xt, X)), np.dot(Xt, y_train))\n",
    "H_inverse = np.dot(np.linalg.inv(np.dot(Xt,X)),Xt)\n",
    "beta = np.dot(H_inverse,y_train)\n",
    "\n",
    "print('Output beta shape: {shape}'.format(shape=beta.shape))\n",
    "print(Xt.shape)"
   ]
  },
  {
   "cell_type": "markdown",
   "id": "81f6743a",
   "metadata": {},
   "source": [
    "# output layer "
   ]
  },
  {
   "cell_type": "code",
   "execution_count": 19,
   "id": "4d18173d",
   "metadata": {},
   "outputs": [],
   "source": [
    "def predict(x):\n",
    "    x = input_to_hidden(x)\n",
    "    y =np.dot(x, beta)+bias2\n",
    "    return y"
   ]
  },
  {
   "cell_type": "markdown",
   "id": "0457aaf0",
   "metadata": {},
   "source": [
    "# Model checking for prediction"
   ]
  },
  {
   "cell_type": "code",
   "execution_count": 22,
   "id": "ea518a15",
   "metadata": {},
   "outputs": [
    {
     "name": "stdout",
     "output_type": "stream",
     "text": [
      "[[-8.49903935e-02  2.34494133e-01  8.50499026e-01]\n",
      " [ 1.07320550e+00 -1.57799961e-01  8.46093323e-02]\n",
      " [-5.39953700e-03  2.63059767e-01  7.42336707e-01]\n",
      " [ 1.06069542e+00 -4.68878022e-02 -1.38113583e-02]\n",
      " [ 1.42519424e-01  7.37737078e-01  1.19739023e-01]\n",
      " [-7.69079863e-04  1.45435957e-01  8.55327559e-01]\n",
      " [ 4.81932957e-02  5.87884752e-01  3.63923719e-01]\n",
      " [ 8.50305190e-01  3.00618098e-01 -1.50930899e-01]\n",
      " [-2.24113181e-02  3.89668912e-01  6.32744572e-01]\n",
      " [ 9.22619506e-01  1.01555327e-01 -2.41679085e-02]\n",
      " [ 1.09070909e-01  5.08297362e-01  3.82625017e-01]\n",
      " [ 7.32231671e-02  3.89320605e-01  5.37450050e-01]\n",
      " [ 3.62239216e-02  1.94576043e-01  7.69191838e-01]\n",
      " [ 7.46236995e-01  3.87445949e-01 -1.33688477e-01]\n",
      " [-2.57666157e-02  3.60679201e-01  6.65088699e-01]\n",
      " [ 2.59300486e-02  4.61783016e-01  5.12287029e-01]\n",
      " [ 2.74399538e-02  8.14649828e-01  1.57919290e-01]\n",
      " [ 5.56328646e-03  3.35364928e-01  6.59070589e-01]\n",
      " [ 9.20753596e-01  1.49973201e-01 -7.07277287e-02]\n",
      " [ 7.35104650e-01  4.82651251e-01 -2.17765487e-01]\n",
      " [-3.80273414e-02  2.61766935e-01  7.76259813e-01]\n",
      " [ 1.05099857e+00 -2.44464624e-02 -2.65467228e-02]\n",
      " [ 1.28399353e-02  2.36266235e-01  7.50888596e-01]\n",
      " [ 9.32380992e-01  1.20316511e-01 -5.26953938e-02]\n",
      " [ 8.51773171e-01  3.07832144e-01 -1.59610068e-01]\n",
      " [ 3.36022864e-02  4.68310162e-01  4.98087379e-01]\n",
      " [ 9.59837326e-02  9.40936606e-01 -3.69141303e-02]\n",
      " [ 9.65082719e-01  7.21439446e-02 -3.72191518e-02]\n",
      " [ 1.08559618e+00 -7.99016715e-02 -5.70057458e-03]\n",
      " [ 1.20083384e+00 -2.45906424e-01  4.50510385e-02]\n",
      " [ 1.02755303e+00  7.15102893e-02 -9.90718103e-02]\n",
      " [ 1.31617215e+00 -6.53996653e-01  3.37829460e-01]\n",
      " [ 8.66053538e-01  2.26473333e-01 -9.25288996e-02]\n",
      " [ 9.79724818e-01  5.98848692e-02 -3.96076177e-02]\n",
      " [ 6.12063951e-02  4.25470368e-01  5.13317657e-01]\n",
      " [ 8.67074116e-01  1.40101410e-01 -7.16975671e-03]\n",
      " [ 3.05291809e-02  6.91398074e-01  2.78076698e-01]\n",
      " [-2.25596365e-02  8.96796302e-02  9.32875403e-01]\n",
      " [-1.31427089e-02  1.55909047e-01  8.57229280e-01]\n",
      " [ 1.19799230e-01  3.45177973e-01  5.35009673e-01]\n",
      " [ 5.28056725e-02  6.54703204e-01  2.92492795e-01]\n",
      " [ 4.65069131e-02  3.41207951e-01  6.12278398e-01]\n",
      " [-5.95418886e-02  6.03724889e-01  4.55825115e-01]\n",
      " [ 7.49867160e-02  6.03203212e-01  3.21809228e-01]\n",
      " [ 6.12428062e-02  2.75356116e-01  6.63392119e-01]]\n"
     ]
    }
   ],
   "source": [
    "y = predict(x_test)\n",
    "print(y)"
   ]
  },
  {
   "cell_type": "code",
   "execution_count": 27,
   "id": "e215d6c3",
   "metadata": {},
   "outputs": [
    {
     "data": {
      "text/plain": [
       "array([[0., 0., 1.],\n",
       "       [1., 0., 0.],\n",
       "       [0., 0., 1.],\n",
       "       [1., 0., 0.],\n",
       "       [0., 1., 0.],\n",
       "       [0., 0., 1.],\n",
       "       [0., 1., 0.],\n",
       "       [1., 0., 0.],\n",
       "       [0., 1., 0.],\n",
       "       [1., 0., 0.],\n",
       "       [0., 1., 0.],\n",
       "       [0., 1., 0.],\n",
       "       [0., 0., 1.],\n",
       "       [1., 0., 0.],\n",
       "       [0., 1., 0.],\n",
       "       [0., 1., 0.],\n",
       "       [0., 1., 0.],\n",
       "       [0., 1., 0.],\n",
       "       [1., 0., 0.],\n",
       "       [1., 0., 0.],\n",
       "       [0., 0., 1.],\n",
       "       [1., 0., 0.],\n",
       "       [0., 0., 1.],\n",
       "       [1., 0., 0.],\n",
       "       [1., 0., 0.],\n",
       "       [0., 1., 0.],\n",
       "       [0., 1., 0.],\n",
       "       [1., 0., 0.],\n",
       "       [1., 0., 0.],\n",
       "       [1., 0., 0.],\n",
       "       [1., 0., 0.],\n",
       "       [1., 0., 0.],\n",
       "       [1., 0., 0.],\n",
       "       [1., 0., 0.],\n",
       "       [0., 0., 1.],\n",
       "       [1., 0., 0.],\n",
       "       [0., 1., 0.],\n",
       "       [0., 0., 1.],\n",
       "       [0., 0., 1.],\n",
       "       [0., 0., 1.],\n",
       "       [0., 1., 0.],\n",
       "       [0., 0., 1.],\n",
       "       [0., 1., 0.],\n",
       "       [0., 1., 0.],\n",
       "       [0., 0., 1.]])"
      ]
     },
     "execution_count": 27,
     "metadata": {},
     "output_type": "execute_result"
    }
   ],
   "source": [
    "y_test"
   ]
  },
  {
   "cell_type": "code",
   "execution_count": 25,
   "id": "13b27179",
   "metadata": {},
   "outputs": [
    {
     "name": "stdout",
     "output_type": "stream",
     "text": [
      "0.201574691544932\n"
     ]
    }
   ],
   "source": [
    "from sklearn.metrics import mean_absolute_error,mean_squared_error\n",
    "print(mean_absolute_error(y_test,y))\n",
    "\n"
   ]
  },
  {
   "cell_type": "code",
   "execution_count": 26,
   "id": "02fd5816",
   "metadata": {},
   "outputs": [
    {
     "name": "stdout",
     "output_type": "stream",
     "text": [
      "0.07346936035272607\n"
     ]
    }
   ],
   "source": [
    "print(mean_squared_error(y,y_test))"
   ]
  },
  {
   "cell_type": "code",
   "execution_count": null,
   "id": "63dcc2ac",
   "metadata": {},
   "outputs": [],
   "source": []
  }
 ],
 "metadata": {
  "kernelspec": {
   "display_name": "Python 3 (ipykernel)",
   "language": "python",
   "name": "python3"
  },
  "language_info": {
   "codemirror_mode": {
    "name": "ipython",
    "version": 3
   },
   "file_extension": ".py",
   "mimetype": "text/x-python",
   "name": "python",
   "nbconvert_exporter": "python",
   "pygments_lexer": "ipython3",
   "version": "3.11.4"
  }
 },
 "nbformat": 4,
 "nbformat_minor": 5
}
