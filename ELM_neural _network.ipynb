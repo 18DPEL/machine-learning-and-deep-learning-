{
 "cells": [
  {
   "cell_type": "markdown",
   "id": "a1a0d4a8",
   "metadata": {},
   "source": [
    "# Here i am importing some important library "
   ]
  },
  {
   "cell_type": "markdown",
   "id": "dad39c2e",
   "metadata": {},
   "source": [
    "# Here loading the iris data"
   ]
  },
  {
   "cell_type": "code",
   "execution_count": 229,
   "id": "c9a3b38f",
   "metadata": {},
   "outputs": [],
   "source": [
    "\n",
    "from sklearn.datasets import load_iris\n",
    "\n",
    "from sklearn.model_selection import train_test_split\n",
    "from sklearn.preprocessing import StandardScaler\n",
    "from sklearn.metrics import accuracy_score\n",
    "import matplotlib.pyplot as plt\n",
    "import numpy as np\n",
    "import pandas as pd\n"
   ]
  },
  {
   "cell_type": "code",
   "execution_count": 71,
   "id": "5f026437",
   "metadata": {},
   "outputs": [
    {
     "name": "stdout",
     "output_type": "stream",
     "text": [
      "initial shape of x (150, 4)\n",
      "initial shape of y (150,)\n"
     ]
    }
   ],
   "source": [
    "iris = load_iris()\n",
    "X = iris.data\n",
    "y = iris.target\n",
    "\n",
    "print(\"initial shape of x\",X.shape)\n",
    "print(\"initial shape of y\",y.shape)\n"
   ]
  },
  {
   "cell_type": "code",
   "execution_count": 187,
   "id": "adde9286",
   "metadata": {},
   "outputs": [
    {
     "name": "stdout",
     "output_type": "stream",
     "text": [
      "after scaling shape of x (150, 4)\n",
      "after encoding target the shape is (150, 3)\n"
     ]
    }
   ],
   "source": [
    "# Normalize the features\n",
    "from sklearn.preprocessing import OneHotEncoder\n",
    "onehot=OneHotEncoder()\n",
    "one_hot=onehot.fit_transform(y.reshape(-1,1)).toarray()\n",
    "\n",
    "\n",
    "from sklearn.preprocessing import MinMaxScaler\n",
    "scaler=MinMaxScaler(feature_range=(0,1))\n",
    "# scaler = StandardScaler()\n",
    "x= scaler.fit_transform(X)\n",
    "\n",
    "print(\"after scaling shape of x\",X.shape)\n",
    "print(\"after encoding target the shape is\",one_hot.shape)\n"
   ]
  },
  {
   "cell_type": "code",
   "execution_count": 188,
   "id": "b5c467a3",
   "metadata": {},
   "outputs": [
    {
     "data": {
      "text/plain": [
       "((105, 4), (45, 4), (105, 3), (45, 3))"
      ]
     },
     "execution_count": 188,
     "metadata": {},
     "output_type": "execute_result"
    }
   ],
   "source": [
    "# Split the dataset into training and testing sets\n",
    "x_train, x_test, y_train, y_test = train_test_split(x,one_hot, test_size=0.3, random_state=42)\n",
    "x_train.shape,x_test.shape,y_train.shape,y_test.shape"
   ]
  },
  {
   "cell_type": "code",
   "execution_count": 189,
   "id": "a2cff89b",
   "metadata": {},
   "outputs": [],
   "source": [
    "# here we assigning the input_layer ,hidden_layer,output_layer\n",
    "\n",
    "num_features = x_train.shape[1] \n",
    "hidden_layer =4\n",
    "classes =3"
   ]
  },
  {
   "cell_type": "code",
   "execution_count": 190,
   "id": "8945f8ef",
   "metadata": {},
   "outputs": [
    {
     "name": "stdout",
     "output_type": "stream",
     "text": [
      "(4, 4)\n",
      "(1, 4)\n",
      "(1, 3)\n"
     ]
    }
   ],
   "source": [
    "#calculating the waits and bias\n",
    "\n",
    "weight1=  np.random.normal(size=[num_features,hidden_layer ])\n",
    "bias1 = np.zeros((1,hidden_layer))\n",
    "bias2=  np.zeros((1,classes))\n",
    "print( weight1.shape)\n",
    "print(bias1.shape)\n",
    "print(bias2.shape)\n"
   ]
  },
  {
   "cell_type": "code",
   "execution_count": 191,
   "id": "b74f39f1",
   "metadata": {},
   "outputs": [],
   "source": [
    "def sigmoid(x):\n",
    "    return 1/(1+np.exp(-x))\n",
    "# print"
   ]
  },
  {
   "cell_type": "code",
   "execution_count": 192,
   "id": "a6ac134e",
   "metadata": {},
   "outputs": [],
   "source": [
    "def softmax( x):\n",
    "        exps = np.exp(x - np.max(x, axis=1))\n",
    "        return exps / np.sum(exps, axis=1 )"
   ]
  },
  {
   "cell_type": "markdown",
   "id": "79353c0b",
   "metadata": {},
   "source": [
    "# calculating the hidden_layer_output"
   ]
  },
  {
   "cell_type": "code",
   "execution_count": 193,
   "id": "7374292f",
   "metadata": {},
   "outputs": [],
   "source": [
    "def train(x):\n",
    "    hidden_layer_output = sigmoid(np.dot(x, weight1) + bias1)\n",
    "    return hidden_layer_output\n"
   ]
  },
  {
   "cell_type": "markdown",
   "id": "a28e277e",
   "metadata": {},
   "source": [
    "# calculating the beta value "
   ]
  },
  {
   "cell_type": "code",
   "execution_count": 194,
   "id": "ed6678b5",
   "metadata": {},
   "outputs": [
    {
     "name": "stdout",
     "output_type": "stream",
     "text": [
      "shape of h_transpose (4, 105)\n",
      "shape of beta (4, 3)\n"
     ]
    }
   ],
   "source": [
    "x=train(x_train)\n",
    "H_t=np.transpose(x)\n",
    "print('shape of h_transpose',H_t.shape)\n",
    "\n",
    "H_inverse = np.dot(np.linalg.inv(np.dot(H_t, H)),H_t)\n",
    "beta = np.dot(H_inverse,y_train)\n",
    "print(\"shape of beta\", beta.shape)"
   ]
  },
  {
   "cell_type": "code",
   "execution_count": 195,
   "id": "0dd1c89f",
   "metadata": {},
   "outputs": [],
   "source": [
    "def forward(x):\n",
    "    output_layer_output = train(x)\n",
    "    y=np.dot(output_layer_output,beta)+bias2\n",
    "    return y\n",
    "\n"
   ]
  },
  {
   "cell_type": "code",
   "execution_count": 196,
   "id": "ff90fd7f",
   "metadata": {},
   "outputs": [
    {
     "name": "stdout",
     "output_type": "stream",
     "text": [
      "[[-0.25322256  0.58627107  0.68139528]\n",
      " [ 0.43616426  0.5108318   0.7533658 ]\n",
      " [-0.72103063  0.6100804   0.82855666]\n",
      " [-0.26253431  0.63379977  0.77331792]\n",
      " [-0.36298918  0.56913777  0.77289496]\n",
      " [ 0.386466    0.48723231  0.71355124]\n",
      " [-0.11387584  0.60824205  0.7510208 ]\n",
      " [-0.4895819   0.69924738  1.00361514]\n",
      " [-0.39351152  0.51583202  0.64489503]\n",
      " [-0.17803482  0.5660185   0.690109  ]\n",
      " [-0.38659174  0.7106828   0.93082693]\n",
      " [ 0.43504697  0.43137096  0.54304713]\n",
      " [ 0.45823528  0.45926034  0.70017199]\n",
      " [ 0.43393338  0.442734    0.56227254]\n",
      " [ 0.50412022  0.53418413  0.71295184]\n",
      " [-0.25328462  0.68776951  0.8723175 ]\n",
      " [-0.49038607  0.71418526  0.89418732]\n",
      " [-0.1742472   0.53656944  0.61137137]\n",
      " [-0.21096925  0.61526559  0.68570262]\n",
      " [-0.50274983  0.68673857  0.86334297]\n",
      " [ 0.43726069  0.48365985  0.58030353]\n",
      " [-0.33239987  0.68273829  0.83842582]\n",
      " [ 0.40979035  0.51487719  0.67618299]\n",
      " [-0.48792731  0.67793551  0.84254148]\n",
      " [-0.51281475  0.74043374  1.05013164]\n",
      " [-0.49375407  0.6994553   0.96688809]\n",
      " [-0.52968963  0.58988031  0.72123938]\n",
      " [-0.51077358  0.73587189  0.96372648]\n",
      " [ 0.39455776  0.45711807  0.58996611]\n",
      " [ 0.41157971  0.46569545  0.57235596]\n",
      " [ 0.5771702   0.50588023  0.65352733]\n",
      " [ 0.55378982  0.56354265  0.8189562 ]\n",
      " [-0.27335926  0.60698898  0.84771167]\n",
      " [ 0.46409206  0.5015032   0.61754651]\n",
      " [ 0.49172553  0.48699245  0.57213448]\n",
      " [-0.45932319  0.60807414  0.77280959]\n",
      " [-0.2513517   0.65231035  0.85595565]\n",
      " [ 0.46214436  0.48585205  0.6666234 ]\n",
      " [ 0.50631465  0.5031665   0.66740458]\n",
      " [ 0.58487648  0.53374927  0.71098963]\n",
      " [-0.37716483  0.6696609   0.76918626]\n",
      " [-0.18463648  0.71201074  0.87236828]\n",
      " [-0.31519451  0.62645372  0.85114421]\n",
      " [ 0.50492176  0.52861183  0.77108629]\n",
      " [ 0.48316477  0.49617977  0.70623964]]\n"
     ]
    }
   ],
   "source": [
    "pred=forward(x_test)\n",
    "print(pred)\n",
    "# output=np.array(pred)\n",
    "# print(output.shape)\n",
    "# output2=output.reshape(105,3)\n",
    "# # print(pred)\n",
    "# y_test.shape"
   ]
  },
  {
   "cell_type": "code",
   "execution_count": 197,
   "id": "2e08d62d",
   "metadata": {},
   "outputs": [
    {
     "name": "stdout",
     "output_type": "stream",
     "text": [
      "[[0. 1. 0.]\n",
      " [1. 0. 0.]\n",
      " [0. 0. 1.]\n",
      " [0. 1. 0.]\n",
      " [0. 1. 0.]\n",
      " [1. 0. 0.]\n",
      " [0. 1. 0.]\n",
      " [0. 0. 1.]\n",
      " [0. 1. 0.]\n",
      " [0. 1. 0.]\n",
      " [0. 0. 1.]\n",
      " [1. 0. 0.]\n",
      " [1. 0. 0.]\n",
      " [1. 0. 0.]\n",
      " [1. 0. 0.]\n",
      " [0. 1. 0.]\n",
      " [0. 0. 1.]\n",
      " [0. 1. 0.]\n",
      " [0. 1. 0.]\n",
      " [0. 0. 1.]\n",
      " [1. 0. 0.]\n",
      " [0. 0. 1.]\n",
      " [1. 0. 0.]\n",
      " [0. 0. 1.]\n",
      " [0. 0. 1.]\n",
      " [0. 0. 1.]\n",
      " [0. 0. 1.]\n",
      " [0. 0. 1.]\n",
      " [1. 0. 0.]\n",
      " [1. 0. 0.]\n",
      " [1. 0. 0.]\n",
      " [1. 0. 0.]\n",
      " [0. 1. 0.]\n",
      " [1. 0. 0.]\n",
      " [1. 0. 0.]\n",
      " [0. 0. 1.]\n",
      " [0. 1. 0.]\n",
      " [1. 0. 0.]\n",
      " [1. 0. 0.]\n",
      " [1. 0. 0.]\n",
      " [0. 0. 1.]\n",
      " [0. 1. 0.]\n",
      " [0. 1. 0.]\n",
      " [1. 0. 0.]\n",
      " [1. 0. 0.]]\n"
     ]
    }
   ],
   "source": [
    "print(y_test)"
   ]
  },
  {
   "cell_type": "code",
   "execution_count": 198,
   "id": "5c46a563",
   "metadata": {},
   "outputs": [
    {
     "name": "stdout",
     "output_type": "stream",
     "text": [
      "0.4966496205169813\n"
     ]
    }
   ],
   "source": [
    "from sklearn.metrics import mean_absolute_error\n",
    "\n",
    "mae=mean_absolute_error(y_test,pred)\n",
    "print(mae)"
   ]
  },
  {
   "cell_type": "code",
   "execution_count": 199,
   "id": "ff67d92e",
   "metadata": {},
   "outputs": [
    {
     "name": "stdout",
     "output_type": "stream",
     "text": [
      "[0. 1. 0. 1. 0. 0. 0. 0. 1. 0. 1. 0. 0. 1. 0. 1. 0. 0. 0. 1. 0. 0. 0. 1.\n",
      " 0. 1. 0. 0. 1. 0. 0. 0. 1. 1. 0. 0. 1. 0. 0. 1. 0. 0. 1. 0. 0. 0. 1. 0.\n",
      " 0. 0. 1. 0. 1. 0. 0. 1. 0. 0. 0. 1. 1. 0. 0. 0. 0. 1. 1. 0. 0. 0. 0. 1.\n",
      " 0. 0. 1. 0. 0. 1. 0. 0. 1. 0. 0. 1. 1. 0. 0. 1. 0. 0. 1. 0. 0. 1. 0. 0.\n",
      " 0. 1. 0. 1. 0. 0. 1. 0. 0. 0. 0. 1. 0. 1. 0. 1. 0. 0. 1. 0. 0. 1. 0. 0.\n",
      " 0. 0. 1. 0. 1. 0. 0. 1. 0. 1. 0. 0. 1. 0. 0.]\n",
      "[-0.25322256  0.58627107  0.68139528  0.43616426  0.5108318   0.7533658\n",
      " -0.72103063  0.6100804   0.82855666 -0.26253431  0.63379977  0.77331792\n",
      " -0.36298918  0.56913777  0.77289496  0.386466    0.48723231  0.71355124\n",
      " -0.11387584  0.60824205  0.7510208  -0.4895819   0.69924738  1.00361514\n",
      " -0.39351152  0.51583202  0.64489503 -0.17803482  0.5660185   0.690109\n",
      " -0.38659174  0.7106828   0.93082693  0.43504697  0.43137096  0.54304713\n",
      "  0.45823528  0.45926034  0.70017199  0.43393338  0.442734    0.56227254\n",
      "  0.50412022  0.53418413  0.71295184 -0.25328462  0.68776951  0.8723175\n",
      " -0.49038607  0.71418526  0.89418732 -0.1742472   0.53656944  0.61137137\n",
      " -0.21096925  0.61526559  0.68570262 -0.50274983  0.68673857  0.86334297\n",
      "  0.43726069  0.48365985  0.58030353 -0.33239987  0.68273829  0.83842582\n",
      "  0.40979035  0.51487719  0.67618299 -0.48792731  0.67793551  0.84254148\n",
      " -0.51281475  0.74043374  1.05013164 -0.49375407  0.6994553   0.96688809\n",
      " -0.52968963  0.58988031  0.72123938 -0.51077358  0.73587189  0.96372648\n",
      "  0.39455776  0.45711807  0.58996611  0.41157971  0.46569545  0.57235596\n",
      "  0.5771702   0.50588023  0.65352733  0.55378982  0.56354265  0.8189562\n",
      " -0.27335926  0.60698898  0.84771167  0.46409206  0.5015032   0.61754651\n",
      "  0.49172553  0.48699245  0.57213448 -0.45932319  0.60807414  0.77280959\n",
      " -0.2513517   0.65231035  0.85595565  0.46214436  0.48585205  0.6666234\n",
      "  0.50631465  0.5031665   0.66740458  0.58487648  0.53374927  0.71098963\n",
      " -0.37716483  0.6696609   0.76918626 -0.18463648  0.71201074  0.87236828\n",
      " -0.31519451  0.62645372  0.85114421  0.50492176  0.52861183  0.77108629\n",
      "  0.48316477  0.49617977  0.70623964]\n"
     ]
    }
   ],
   "source": [
    "import numpy as np\n",
    "\n",
    "# Create a 2D array\n",
    "y_test_1D= y_test.flatten()\n",
    "pred_1D=pred.flatten()\n",
    "\n",
    "# Flatten the 2D array to 1D\n",
    "# Print the flattened array\n",
    "\n",
    "print(y_test_1D)\n",
    "print(pred_1D)\n"
   ]
  },
  {
   "cell_type": "code",
   "execution_count": 203,
   "id": "976f15d9",
   "metadata": {},
   "outputs": [
    {
     "data": {
      "text/html": [
       "<div>\n",
       "<style scoped>\n",
       "    .dataframe tbody tr th:only-of-type {\n",
       "        vertical-align: middle;\n",
       "    }\n",
       "\n",
       "    .dataframe tbody tr th {\n",
       "        vertical-align: top;\n",
       "    }\n",
       "\n",
       "    .dataframe thead th {\n",
       "        text-align: right;\n",
       "    }\n",
       "</style>\n",
       "<table border=\"1\" class=\"dataframe\">\n",
       "  <thead>\n",
       "    <tr style=\"text-align: right;\">\n",
       "      <th></th>\n",
       "      <th>prediction</th>\n",
       "      <th>actual</th>\n",
       "    </tr>\n",
       "  </thead>\n",
       "  <tbody>\n",
       "    <tr>\n",
       "      <th>0</th>\n",
       "      <td>-0.253223</td>\n",
       "      <td>0.0</td>\n",
       "    </tr>\n",
       "    <tr>\n",
       "      <th>1</th>\n",
       "      <td>0.586271</td>\n",
       "      <td>1.0</td>\n",
       "    </tr>\n",
       "    <tr>\n",
       "      <th>2</th>\n",
       "      <td>0.681395</td>\n",
       "      <td>0.0</td>\n",
       "    </tr>\n",
       "    <tr>\n",
       "      <th>3</th>\n",
       "      <td>0.436164</td>\n",
       "      <td>1.0</td>\n",
       "    </tr>\n",
       "    <tr>\n",
       "      <th>4</th>\n",
       "      <td>0.510832</td>\n",
       "      <td>0.0</td>\n",
       "    </tr>\n",
       "    <tr>\n",
       "      <th>...</th>\n",
       "      <td>...</td>\n",
       "      <td>...</td>\n",
       "    </tr>\n",
       "    <tr>\n",
       "      <th>130</th>\n",
       "      <td>0.528612</td>\n",
       "      <td>0.0</td>\n",
       "    </tr>\n",
       "    <tr>\n",
       "      <th>131</th>\n",
       "      <td>0.771086</td>\n",
       "      <td>0.0</td>\n",
       "    </tr>\n",
       "    <tr>\n",
       "      <th>132</th>\n",
       "      <td>0.483165</td>\n",
       "      <td>1.0</td>\n",
       "    </tr>\n",
       "    <tr>\n",
       "      <th>133</th>\n",
       "      <td>0.496180</td>\n",
       "      <td>0.0</td>\n",
       "    </tr>\n",
       "    <tr>\n",
       "      <th>134</th>\n",
       "      <td>0.706240</td>\n",
       "      <td>0.0</td>\n",
       "    </tr>\n",
       "  </tbody>\n",
       "</table>\n",
       "<p>135 rows × 2 columns</p>\n",
       "</div>"
      ],
      "text/plain": [
       "     prediction  actual\n",
       "0     -0.253223     0.0\n",
       "1      0.586271     1.0\n",
       "2      0.681395     0.0\n",
       "3      0.436164     1.0\n",
       "4      0.510832     0.0\n",
       "..          ...     ...\n",
       "130    0.528612     0.0\n",
       "131    0.771086     0.0\n",
       "132    0.483165     1.0\n",
       "133    0.496180     0.0\n",
       "134    0.706240     0.0\n",
       "\n",
       "[135 rows x 2 columns]"
      ]
     },
     "execution_count": 203,
     "metadata": {},
     "output_type": "execute_result"
    }
   ],
   "source": [
    "df=pd.DataFrame(data={'prediction':pred_1D,'actual':y_test_1D})\n",
    "df"
   ]
  },
  {
   "cell_type": "code",
   "execution_count": 205,
   "id": "30d822dd",
   "metadata": {},
   "outputs": [
    {
     "data": {
      "text/plain": [
       "<Axes: >"
      ]
     },
     "execution_count": 205,
     "metadata": {},
     "output_type": "execute_result"
    },
    {
     "data": {
      "image/png": "[encoded data removed]",
      "text/plain": [
       "<Figure size 1600x400 with 1 Axes>"
      ]
     },
     "metadata": {},
     "output_type": "display_data"
    }
   ],
   "source": [
    "df.plot(figsize=(16,4))"
   ]
  },
  {
   "cell_type": "code",
   "execution_count": 206,
   "id": "3e807219",
   "metadata": {},
   "outputs": [
    {
     "name": "stdout",
     "output_type": "stream",
     "text": [
      "Mean Absolute Error: 0.4966496205169813\n"
     ]
    }
   ],
   "source": [
    "from sklearn.metrics import mean_absolute_error\n",
    "import pandas as pd\n",
    "\n",
    "# Assuming 'pred' is the predicted values and 'y_test' is the true labels\n",
    "\n",
    "# Calculate the mean absolute error\n",
    "mae = mean_absolute_error(pred[:45], y_test)\n",
    "print(\"Mean Absolute Error:\", mae)\n",
    "\n"
   ]
  },
  {
   "cell_type": "markdown",
   "id": "2677ade2",
   "metadata": {},
   "source": [
    "# Second approach to  creating the ELM neural network from scratch"
   ]
  },
  {
   "cell_type": "code",
   "execution_count": 207,
   "id": "a715d483",
   "metadata": {},
   "outputs": [
    {
     "data": {
      "text/plain": [
       "(150,)"
      ]
     },
     "execution_count": 207,
     "metadata": {},
     "output_type": "execute_result"
    }
   ],
   "source": [
    "iris = load_iris()\n",
    "X = iris.data\n",
    "y = iris.target\n",
    "y.shape\n"
   ]
  },
  {
   "cell_type": "code",
   "execution_count": 208,
   "id": "9735530c",
   "metadata": {},
   "outputs": [
    {
     "name": "stdout",
     "output_type": "stream",
     "text": [
      "(150, 4)\n",
      "(150, 3)\n"
     ]
    }
   ],
   "source": [
    "# Normalize the features\n",
    "scaler = StandardScaler()\n",
    "X_train= scaler.fit_transform(X)\n",
    "print(X_train.shape)\n",
    "\n",
    "from sklearn.preprocessing import OneHotEncoder\n",
    "onehot=OneHotEncoder()\n",
    "o_hot=onehot.fit_transform(y.reshape(-1,1)).toarray()\n",
    "print(o_hot.shape)"
   ]
  },
  {
   "cell_type": "code",
   "execution_count": 209,
   "id": "b4e5ef5a",
   "metadata": {},
   "outputs": [
    {
     "name": "stdout",
     "output_type": "stream",
     "text": [
      "Train size: 105, Test size: 45\n"
     ]
    },
    {
     "data": {
      "text/plain": [
       "((105, 4), (105, 3), (45, 4), (45, 3))"
      ]
     },
     "execution_count": 209,
     "metadata": {},
     "output_type": "execute_result"
    }
   ],
   "source": [
    "from sklearn.model_selection import train_test_split\n",
    "\n",
    "x_train, x_test, y_train, y_test = train_test_split(X_train, o_hot, test_size=0.3)\n",
    "print('Train size: {train}, Test size: {test}'.format(train=x_train.shape[0], test=x_test.shape[0]))\n",
    "x_train.shape,y_train.shape,x_test.shape,y_test.shape"
   ]
  },
  {
   "cell_type": "code",
   "execution_count": 210,
   "id": "22f4a4ac",
   "metadata": {},
   "outputs": [
    {
     "name": "stdout",
     "output_type": "stream",
     "text": [
      "Input Weight shape: (4, 4)\n",
      "Input bias1 shape: (1, 4)\n",
      "Input bias2 shape: (1, 3)\n",
      "4\n"
     ]
    }
   ],
   "source": [
    "INPUT_LENGHT = x_train.shape[1] # 784 \n",
    "HIDDEN_UNITS = 4\n",
    "num_classes=3\n",
    "Win = np.random.normal(size=[INPUT_LENGHT, HIDDEN_UNITS])\n",
    "# bias=np.zeros(size=[1,INPUT_LENG HT]) \n",
    "bias1 = np.zeros((1, HIDDEN_UNITS))\n",
    "bias2=  np.zeros((1, num_classes))   \n",
    "print('Input Weight shape: {shape}'.format(shape=Win.shape))\n",
    "print('Input bias1 shape: {shape}'.format(shape=bias1.shape))\n",
    "print('Input bias2 shape: {shape}'.format(shape=bias2.shape))\n",
    "print(x_train.shape[1] )"
   ]
  },
  {
   "cell_type": "code",
   "execution_count": 211,
   "id": "9426dcdd",
   "metadata": {},
   "outputs": [],
   "source": [
    "def sigmoid(x):\n",
    "    return 1/(1+np.exp(-x))"
   ]
  },
  {
   "cell_type": "code",
   "execution_count": 212,
   "id": "8dcf92c1",
   "metadata": {},
   "outputs": [],
   "source": [
    "def softmax( x):\n",
    "        exps = np.exp(x - np.max(x, axis=1, keepdims=True))\n",
    "        return exps / np.sum(exps, axis=1, keepdims=True)"
   ]
  },
  {
   "cell_type": "code",
   "execution_count": 213,
   "id": "2082ae60",
   "metadata": {},
   "outputs": [],
   "source": [
    "def input_to_hidden(x):\n",
    "    a = sigmoid(np.dot(x, Win)+bias1)\n",
    "    return a"
   ]
  },
  {
   "cell_type": "code",
   "execution_count": 214,
   "id": "919805f7",
   "metadata": {},
   "outputs": [
    {
     "name": "stdout",
     "output_type": "stream",
     "text": [
      "(105, 4)\n",
      "(4, 105)\n",
      "Output weights shape: (4, 3)\n",
      "(4, 105)\n"
     ]
    }
   ],
   "source": [
    "X = input_to_hidden(x_train)\n",
    "print(X.shape)\n",
    "Xt = np.transpose(X)\n",
    "print(Xt.shape)\n",
    "Wout = np.dot(np.linalg.inv(np.dot(Xt, X)), np.dot(Xt, y_train))\n",
    "# H_inverse = np.dot(np.linalg.inv(np.dot(Xt,X)),Xt)\n",
    "# Wout = np.dot(H_inverse,y_train)\n",
    "\n",
    "print('Output weights shape: {shape}'.format(shape=Wout.shape))\n",
    "print(Xt.shape)"
   ]
  },
  {
   "cell_type": "code",
   "execution_count": 215,
   "id": "349378ad",
   "metadata": {},
   "outputs": [],
   "source": [
    "def predict(x):\n",
    "    x = input_to_hidden(x)\n",
    "    y =np.dot(x, Wout)+bias2\n",
    "    \n",
    "    \n",
    "    return np.argmax(y,axis=1)"
   ]
  },
  {
   "cell_type": "code",
   "execution_count": 216,
   "id": "c9ceded4",
   "metadata": {},
   "outputs": [
    {
     "name": "stdout",
     "output_type": "stream",
     "text": [
      "Accuracy: 0.311111\n"
     ]
    }
   ],
   "source": [
    "y = predict(x_test)\n",
    "# print(y)\n",
    "# print(y_train)\n",
    "correct = 0\n",
    "total = y.shape[0]\n",
    "for i in range(total):\n",
    "    predicted = np.argmax(y[i])\n",
    "    test = np.argmax(y_test[i])\n",
    "    correct = correct + (1 if predicted == test else 0)\n",
    "print('Accuracy: {:f}'.format(correct/total))"
   ]
  },
  {
   "cell_type": "code",
   "execution_count": null,
   "id": "374a8aa5",
   "metadata": {},
   "outputs": [],
   "source": []
  },
  {
   "cell_type": "markdown",
   "id": "28958e6c",
   "metadata": {},
   "source": [
    "# same in one cell"
   ]
  },
  {
   "cell_type": "markdown",
   "id": "980cb492",
   "metadata": {},
   "source": [
    "# The same after converting into classs"
   ]
  },
  {
   "cell_type": "code",
   "execution_count": 256,
   "id": "47987c72",
   "metadata": {},
   "outputs": [
    {
     "name": "stdout",
     "output_type": "stream",
     "text": [
      "[0 0 2 2 2 0 1 1 2 0 1 0 0 2 2 0 2 1 0 1 0 0 2 0 1 2 2 1 2 0 0 1 2 1 2 1 2\n",
      " 2 1 0 2 0 1 0 1]\n"
     ]
    }
   ],
   "source": [
    "import numpy as np\n",
    "from sklearn.datasets import load_iris\n",
    "from sklearn.preprocessing import StandardScaler\n",
    "from sklearn.model_selection import train_test_split\n",
    "from sklearn.metrics import confusion_matrix\n",
    "from scipy.stats import randint   \n",
    "from sklearn.base import BaseEstimator, ClassifierMixin\n",
    "from sklearn.metrics import roc_auc_score\n",
    "import seaborn as sns\n",
    "import matplotlib.pyplot as plt\n",
    "from sklearn.preprocessing import OneHotEncoder\n",
    "\n",
    "\n",
    "class MyModel:\n",
    "    def __init__(self, input_length, hidden_units, num_classes):\n",
    "        self.input_length = input_length\n",
    "        self.hidden_units = hidden_units\n",
    "        self.num_classes = num_classes\n",
    "        self.Win = None\n",
    "        self.bias1 = None\n",
    "        self.bias2 = None\n",
    "        self.Wout = None\n",
    "\n",
    "    def load_data(self):\n",
    "        iris = load_iris()\n",
    "        X = iris.data\n",
    "        y = iris.target\n",
    "        return X, y\n",
    "\n",
    "    def preprocess_data(self, X, y):\n",
    "        scaler = StandardScaler()\n",
    "        X_train = scaler.fit_transform(X)\n",
    "        onehot=OneHotEncoder()\n",
    "        y_train=onehot.fit_transform(y.reshape(-1,1)).toarray()\n",
    "        \n",
    "#         num_classes = 3\n",
    "#         y_train = np.eye(num_classes)[y]\n",
    "        \n",
    "        return X_train, y_train\n",
    "\n",
    "    def split_data(self, X_train, y_train, test_size=0.3):\n",
    "        x_train, x_test, y_train, y_test = train_test_split(X_train, y_train, test_size=test_size)\n",
    "        return x_train, x_test, y_train, y_test\n",
    "\n",
    "    def initialize_weights(self):\n",
    "        self.Win = np.random.normal(size=[self.input_length, self.hidden_units])\n",
    "        self.bias1 = np.zeros((1, self.hidden_units))\n",
    "        self.bias2 = np.zeros((1, self.num_classes))\n",
    "\n",
    "    def sigmoid(self, x):\n",
    "        return 1 / (1 + np.exp(-x))\n",
    "\n",
    "    def softmax(self, x):\n",
    "        exps = np.exp(x - np.max(x, axis=1, keepdims=True))\n",
    "        return exps / np.sum(exps, axis=1, keepdims=True)\n",
    "\n",
    "    def input_to_hidden(self, x):\n",
    "        a = self.sigmoid(np.dot(x, self.Win) + self.bias1)\n",
    "        return a\n",
    "\n",
    "    def train(self, x_train, y_train):\n",
    "        X = self.input_to_hidden(x_train)\n",
    "        Xt = np.transpose(X)\n",
    "        self.Wout = np.dot(np.linalg.inv(np.dot(Xt, X)), np.dot(Xt, y_train))\n",
    "\n",
    "    def predict(self, x):\n",
    "        x = self.input_to_hidden(x)\n",
    "#         y = self.softmax(np.dot(x, self.Wout) + self.bias2)\n",
    "        y=np.dot(x,self.Wout)+self.bias2\n",
    "        return np.argmax(y, axis=1)\n",
    "\n",
    "# Usage example:\n",
    "model = MyModel(input_length=4, hidden_units=10, num_classes=3)\n",
    "X, y = model.load_data()\n",
    "X_train, y_train = model.preprocess_data(X, y)\n",
    "x_train, x_test, y_train, y_test = model.split_data(X_train, y_train, test_size=0.3)\n",
    "model.initialize_weights()\n",
    "model.train(x_train, y_train)\n",
    "predictions = model.predict(x_test)\n",
    "print(predictions)\n"
   ]
  },
  {
   "cell_type": "code",
   "execution_count": 257,
   "id": "a27212ae",
   "metadata": {},
   "outputs": [
    {
     "name": "stdout",
     "output_type": "stream",
     "text": [
      "Accuracy: 0.9333333333333333\n"
     ]
    }
   ],
   "source": [
    "correct_predictions = np.sum(predictions == np.argmax(y_test, axis=1))\n",
    "total_examples = len(y_test)\n",
    "accuracy = correct_predictions / total_examples\n",
    "print(\"Accuracy:\", accuracy)"
   ]
  },
  {
   "cell_type": "code",
   "execution_count": 246,
   "id": "e12b0e68",
   "metadata": {},
   "outputs": [
    {
     "data": {
      "image/png": "[encoded data removed]",
      "text/plain": [
       "<Figure size 640x480 with 2 Axes>"
      ]
     },
     "metadata": {},
     "output_type": "display_data"
    }
   ],
   "source": [
    "cm = confusion_matrix(np.argmax(y_test, axis=1), predictions)\n",
    "\n",
    "# Create a heatmap using seaborn\n",
    "sns.heatmap(cm, annot=True, fmt=\"d\", cmap=\"Blues\")\n",
    "\n",
    "# Customize the plot\n",
    "classes = ['Setosa', 'Versicolor', 'Virginica']\n",
    "plt.title('Confusion Matrix')\n",
    "plt.xlabel('Predicted label')\n",
    "plt.ylabel('True label')\n",
    "plt.xticks(np.arange(len(classes)) + 0.5, classes)\n",
    "plt.yticks(np.arange(len(classes)) + 0.5, classes)\n",
    "\n",
    "# Ensure the plot is displayed correctly\n",
    "plt.tight_layout()\n",
    "\n",
    "# Show the plot\n",
    "plt.show()\n"
   ]
  },
  {
   "cell_type": "markdown",
   "id": "11a1f116",
   "metadata": {},
   "source": [
    "# After applying randomsearch cv in this code for finding the best hidden layer"
   ]
  },
  {
   "cell_type": "code",
   "execution_count": 259,
   "id": "fac0f44e",
   "metadata": {},
   "outputs": [
    {
     "name": "stderr",
     "output_type": "stream",
     "text": [
      "C:\\Users\\DELL\\AppData\\Local\\Temp\\ipykernel_4640\\4090957861.py:71: DeprecationWarning: elementwise comparison failed; this will raise an error in the future.\n",
      "  return np.mean(y_pred == y)\n"
     ]
    },
    {
     "name": "stdout",
     "output_type": "stream",
     "text": [
      "Best hidden units: 8\n"
     ]
    }
   ],
   "source": [
    "import numpy as np\n",
    "from sklearn.datasets import load_iris\n",
    "from sklearn.preprocessing import StandardScaler\n",
    "from sklearn.model_selection import train_test_split, RandomizedSearchCV\n",
    "from scipy.stats import randint   \n",
    "from sklearn.base import BaseEstimator, ClassifierMixin\n",
    "from sklearn.preprocessing import OneHotEncoder\n",
    "\n",
    "\n",
    "class MyModel(BaseEstimator, ClassifierMixin):\n",
    "    def __init__(self, input_length, hidden_units, num_classes):\n",
    "        self.input_length = input_length\n",
    "        self.hidden_units = hidden_units\n",
    "        self.num_classes = num_classes\n",
    "        self.Win = None\n",
    "        self.bias1 = None\n",
    "        self.bias2 = None\n",
    "        self.Wout = None\n",
    "\n",
    "    def load_data(self):\n",
    "        iris = load_iris()\n",
    "        X = iris.data\n",
    "        y = iris.target\n",
    "        return X, y\n",
    "\n",
    "    def preprocess_data(self, X, y):\n",
    "        scaler = StandardScaler()\n",
    "        X_train = scaler.fit_transform(X)\n",
    "        onehot=OneHotEncoder()\n",
    "        y_train=onehot.fit_transform(y.reshape(-1,1)).toarray()\n",
    "\n",
    "        \n",
    "#         num_classes = 3\n",
    "#         y_train = one_hot\n",
    "        \n",
    "        return X_train, y_train\n",
    "\n",
    "    def split_data(self, X_train, y_train, test_size=0.3):\n",
    "        x_train, x_test, y_train, y_test = train_test_split(X_train, y_train, test_size=test_size)\n",
    "        return x_train, x_test, y_train, y_test\n",
    "\n",
    "    def initialize_weights(self):\n",
    "        self.Win = np.random.normal(size=[self.input_length, self.hidden_units])\n",
    "        self.bias1 = np.zeros((1, self.hidden_units))\n",
    "        self.bias2 = np.zeros((1, self.num_classes))\n",
    "\n",
    "    def sigmoid(self, x):\n",
    "        return 1 / (1 + np.exp(-x))\n",
    "\n",
    "    def softmax(self, x):\n",
    "        exps = np.exp(x - np.max(x, axis=1, keepdims=True))\n",
    "        return exps / np.sum(exps, axis=1, keepdims=True)\n",
    "\n",
    "    def input_to_hidden(self, x): \n",
    "        a = self.sigmoid(np.dot(x, self.Win) + self.bias1)\n",
    "        return a\n",
    "\n",
    "    def train(self, x_train, y_train):\n",
    "        X = self.input_to_hidden(x_train)\n",
    "        Xt = np.transpose(X)\n",
    "        self.Wout = np.dot(np.linalg.inv(np.dot(Xt, X)), np.dot(Xt, y_train))\n",
    "\n",
    "    def predict(self, x):\n",
    "        x = self.input_to_hidden(x)\n",
    "#         y = self.softmax(np.dot(x, self.Wout) + self.bias2)\n",
    "        y=np.dot(x,self.Wout)+self.bias2\n",
    "        return np.argmax(y, axis=1)\n",
    "\n",
    "    def score(self, x, y):\n",
    "        y_pred = self.predict(x)\n",
    "        return np.mean(y_pred == y)\n",
    "\n",
    "    def fit(self, X, y):\n",
    "        self.initialize_weights()\n",
    "        self.train(X, y)\n",
    "\n",
    "# here applying randomsearchcv for finding the best hidden layer \n",
    "\n",
    "    def find_best_hidden_units(self, x_train, y_train):\n",
    "        param_dist = {\n",
    "            'hidden_units': randint(4, 20)  # Adjust the range as desired\n",
    "        }\n",
    "\n",
    "        random_search = RandomizedSearchCV(estimator=self, param_distributions=param_dist, n_iter=10)\n",
    "        random_search.fit(x_train, y_train)\n",
    "\n",
    "        best_hidden_units = random_search.best_params_['hidden_units']\n",
    "        return best_hidden_units\n",
    "\n",
    "# Usage example:\n",
    "model = MyModel(input_length=4, hidden_units=4, num_classes=3)\n",
    "X, y = model.load_data()\n",
    "X_train, y_train = model.preprocess_data(X, y)\n",
    "x_train, x_test, y_train, y_test = model.split_data(X_train, y_train, test_size=0.3)\n",
    "best_hidden_units = model.find_best_hidden_units(x_train, y_train)\n",
    "print(\"Best hidden units:\", best_hidden_units)\n"
   ]
  },
  {
   "cell_type": "code",
   "execution_count": null,
   "id": "a3b65de5",
   "metadata": {},
   "outputs": [],
   "source": []
  },
  {
   "cell_type": "code",
   "execution_count": null,
   "id": "0364c66b",
   "metadata": {},
   "outputs": [],
   "source": [
    "import matplotlib.pyplot as plt\n",
    "import seaborn as sns\n",
    "from sklearn.metrics import confusion_matrix"
   ]
  },
  {
   "cell_type": "code",
   "execution_count": null,
   "id": "2dfa14fa",
   "metadata": {},
   "outputs": [],
   "source": [
    "import matplotlib.pyplot as plt\n",
    "import seaborn as sns\n",
    "from sklearn.metrics import confusion_matrix"
   ]
  },
  {
   "cell_type": "code",
   "execution_count": 273,
   "id": "98e04c62",
   "metadata": {},
   "outputs": [
    {
     "data": {
      "image/png": "[encoded data removed]",
      "text/plain": [
       "<Figure size 600x400 with 2 Axes>"
      ]
     },
     "metadata": {},
     "output_type": "display_data"
    }
   ],
   "source": [
    "import numpy as np\n",
    "import matplotlib.pyplot as plt\n",
    "import seaborn as sns\n",
    "from sklearn.metrics import confusion_matrix\n",
    "\n",
    "# Example ground truth and predicted labels\n",
    "y_true = np.array([1, 0, 1, 1, 0, 2, 0, 2, 2])\n",
    "y_pred = np.array([1, 0, 0, 1, 0, 1, 2, 2, 2])\n",
    "\n",
    "# Compute confusion matrix\n",
    "cm = confusion_matrix(y_true, y_pred)\n",
    "\n",
    "# Plot confusion matrix as a heatmap\n",
    "plt.figure(figsize=(6, 4))\n",
    "sns.heatmap(cm, annot=True, cmap='Blues', fmt='d', xticklabels=['Class 0', 'Class 1', 'Class 2'], \n",
    "            yticklabels=['Class 0', 'Class 1', 'Class 2'])\n",
    "plt.xlabel('Predicted Labels')\n",
    "plt.ylabel('True Labels')\n",
    "plt.title('Confusion Matrix')\n",
    "plt.show()\n"
   ]
  },
  {
   "cell_type": "code",
   "execution_count": null,
   "id": "dc630b43",
   "metadata": {},
   "outputs": [],
   "source": []
  },
  {
   "cell_type": "code",
   "execution_count": null,
   "id": "d022c345",
   "metadata": {},
   "outputs": [],
   "source": []
  },
  {
   "cell_type": "markdown",
   "id": "119a1d15",
   "metadata": {},
   "source": [
    "# Implementation of K-flod cross validation from scratch"
   ]
  },
  {
   "cell_type": "code",
   "execution_count": 260,
   "id": "13322ecb",
   "metadata": {},
   "outputs": [],
   "source": [
    "iris = load_iris()\n",
    "X = iris.data\n",
    "y = iris.target"
   ]
  },
  {
   "cell_type": "code",
   "execution_count": 261,
   "id": "56b51f3d",
   "metadata": {},
   "outputs": [],
   "source": [
    "from sklearn.preprocessing import StandardScaler"
   ]
  },
  {
   "cell_type": "code",
   "execution_count": 262,
   "id": "ef506039",
   "metadata": {},
   "outputs": [],
   "source": [
    "scaling=StandardScaler()\n",
    "X=scaling.fit_transform(X)"
   ]
  },
  {
   "cell_type": "code",
   "execution_count": 263,
   "id": "f3ead858",
   "metadata": {},
   "outputs": [
    {
     "data": {
      "text/plain": [
       "(150, 4)"
      ]
     },
     "execution_count": 263,
     "metadata": {},
     "output_type": "execute_result"
    }
   ],
   "source": [
    "X.shape"
   ]
  },
  {
   "cell_type": "code",
   "execution_count": 264,
   "id": "6d1f2474",
   "metadata": {},
   "outputs": [
    {
     "name": "stdout",
     "output_type": "stream",
     "text": [
      "after scaling shape of x (150, 4)\n",
      "after encoding target the shape is (150, 3)\n"
     ]
    }
   ],
   "source": [
    "print(\"after scaling shape of x\",X.shape)\n",
    "\n",
    "num_classes = len(np.unique(y))\n",
    "y= np.eye(num_classes)[y]\n",
    "\n",
    "print(\"after encoding target the shape is\",y.shape)"
   ]
  },
  {
   "cell_type": "code",
   "execution_count": 265,
   "id": "ce0d639d",
   "metadata": {},
   "outputs": [],
   "source": [
    "X_train, X_test, y_train, y_test = train_test_split(X, y, test_size=0.3, random_state=42)"
   ]
  },
  {
   "cell_type": "code",
   "execution_count": 266,
   "id": "6596fef9",
   "metadata": {},
   "outputs": [
    {
     "data": {
      "text/html": [
       "<style>#sk-container-id-1 {color: black;background-color: white;}#sk-container-id-1 pre{padding: 0;}#sk-container-id-1 div.sk-toggleable {background-color: white;}#sk-container-id-1 label.sk-toggleable__label {cursor: pointer;display: block;width: 100%;margin-bottom: 0;padding: 0.3em;box-sizing: border-box;text-align: center;}#sk-container-id-1 label.sk-toggleable__label-arrow:before {content: \"▸\";float: left;margin-right: 0.25em;color: #696969;}#sk-container-id-1 label.sk-toggleable__label-arrow:hover:before {color: black;}#sk-container-id-1 div.sk-estimator:hover label.sk-toggleable__label-arrow:before {color: black;}#sk-container-id-1 div.sk-toggleable__content {max-height: 0;max-width: 0;overflow: hidden;text-align: left;background-color: #f0f8ff;}#sk-container-id-1 div.sk-toggleable__content pre {margin: 0.2em;color: black;border-radius: 0.25em;background-color: #f0f8ff;}#sk-container-id-1 input.sk-toggleable__control:checked~div.sk-toggleable__content {max-height: 200px;max-width: 100%;overflow: auto;}#sk-container-id-1 input.sk-toggleable__control:checked~label.sk-toggleable__label-arrow:before {content: \"▾\";}#sk-container-id-1 div.sk-estimator input.sk-toggleable__control:checked~label.sk-toggleable__label {background-color: #d4ebff;}#sk-container-id-1 div.sk-label input.sk-toggleable__control:checked~label.sk-toggleable__label {background-color: #d4ebff;}#sk-container-id-1 input.sk-hidden--visually {border: 0;clip: rect(1px 1px 1px 1px);clip: rect(1px, 1px, 1px, 1px);height: 1px;margin: -1px;overflow: hidden;padding: 0;position: absolute;width: 1px;}#sk-container-id-1 div.sk-estimator {font-family: monospace;background-color: #f0f8ff;border: 1px dotted black;border-radius: 0.25em;box-sizing: border-box;margin-bottom: 0.5em;}#sk-container-id-1 div.sk-estimator:hover {background-color: #d4ebff;}#sk-container-id-1 div.sk-parallel-item::after {content: \"\";width: 100%;border-bottom: 1px solid gray;flex-grow: 1;}#sk-container-id-1 div.sk-label:hover label.sk-toggleable__label {background-color: #d4ebff;}#sk-container-id-1 div.sk-serial::before {content: \"\";position: absolute;border-left: 1px solid gray;box-sizing: border-box;top: 0;bottom: 0;left: 50%;z-index: 0;}#sk-container-id-1 div.sk-serial {display: flex;flex-direction: column;align-items: center;background-color: white;padding-right: 0.2em;padding-left: 0.2em;position: relative;}#sk-container-id-1 div.sk-item {position: relative;z-index: 1;}#sk-container-id-1 div.sk-parallel {display: flex;align-items: stretch;justify-content: center;background-color: white;position: relative;}#sk-container-id-1 div.sk-item::before, #sk-container-id-1 div.sk-parallel-item::before {content: \"\";position: absolute;border-left: 1px solid gray;box-sizing: border-box;top: 0;bottom: 0;left: 50%;z-index: -1;}#sk-container-id-1 div.sk-parallel-item {display: flex;flex-direction: column;z-index: 1;position: relative;background-color: white;}#sk-container-id-1 div.sk-parallel-item:first-child::after {align-self: flex-end;width: 50%;}#sk-container-id-1 div.sk-parallel-item:last-child::after {align-self: flex-start;width: 50%;}#sk-container-id-1 div.sk-parallel-item:only-child::after {width: 0;}#sk-container-id-1 div.sk-dashed-wrapped {border: 1px dashed gray;margin: 0 0.4em 0.5em 0.4em;box-sizing: border-box;padding-bottom: 0.4em;background-color: white;}#sk-container-id-1 div.sk-label label {font-family: monospace;font-weight: bold;display: inline-block;line-height: 1.2em;}#sk-container-id-1 div.sk-label-container {text-align: center;}#sk-container-id-1 div.sk-container {/* jupyter's `normalize.less` sets `[hidden] { display: none; }` but bootstrap.min.css set `[hidden] { display: none !important; }` so we also need the `!important` here to be able to override the default hidden behavior on the sphinx rendered scikit-learn.org. See: https://github.com/scikit-learn/scikit-learn/issues/21755 */display: inline-block !important;position: relative;}#sk-container-id-1 div.sk-text-repr-fallback {display: none;}</style><div id=\"sk-container-id-1\" class=\"sk-top-container\"><div class=\"sk-text-repr-fallback\"><pre>KNeighborsClassifier()</pre><b>In a Jupyter environment, please rerun this cell to show the HTML representation or trust the notebook. <br />On GitHub, the HTML representation is unable to render, please try loading this page with nbviewer.org.</b></div><div class=\"sk-container\" hidden><div class=\"sk-item\"><div class=\"sk-estimator sk-toggleable\"><input class=\"sk-toggleable__control sk-hidden--visually\" id=\"sk-estimator-id-1\" type=\"checkbox\" checked><label for=\"sk-estimator-id-1\" class=\"sk-toggleable__label sk-toggleable__label-arrow\">KNeighborsClassifier</label><div class=\"sk-toggleable__content\"><pre>KNeighborsClassifier()</pre></div></div></div></div></div>"
      ],
      "text/plain": [
       "KNeighborsClassifier()"
      ]
     },
     "execution_count": 266,
     "metadata": {},
     "output_type": "execute_result"
    }
   ],
   "source": [
    "# from sklearn.neighbors import KNeighborsClassifier\n",
    "\n",
    "from sklearn.neighbors import KNeighborsClassifier\n",
    "model=KNeighborsClassifier(n_neighbors=5)\n",
    "model.fit(x_train,y_train)\n"
   ]
  },
  {
   "cell_type": "code",
   "execution_count": 267,
   "id": "dab433e3",
   "metadata": {
    "scrolled": true
   },
   "outputs": [
    {
     "data": {
      "text/plain": [
       "0.13333333333333333"
      ]
     },
     "execution_count": 267,
     "metadata": {},
     "output_type": "execute_result"
    }
   ],
   "source": [
    "model.score(x_test,y_test)"
   ]
  },
  {
   "cell_type": "code",
   "execution_count": 272,
   "id": "83dab0e4",
   "metadata": {},
   "outputs": [
    {
     "name": "stdout",
     "output_type": "stream",
     "text": [
      "after encoding target the shape is (150,)\n",
      "105\n",
      "45\n",
      "105\n",
      "45\n",
      "105\n",
      "45\n",
      "105\n",
      "45\n",
      "105\n",
      "45\n",
      "[0.9333333333333333, 0.9333333333333333, 0.9666666666666667, 0.9333333333333333, 0.9666666666666667]\n"
     ]
    }
   ],
   "source": [
    "import numpy as np\n",
    "\n",
    "def k_fold_cross_validation(X, y, k, model):\n",
    "    iris = load_iris()\n",
    "    X = iris.data\n",
    "    y = iris.target\n",
    "\n",
    "    k=5\n",
    "    \n",
    "    from sklearn.preprocessing import StandardScaler\n",
    "    scaling=StandardScaler()\n",
    "    X=scaling.fit_transform(X)\n",
    "    X.shape\n",
    "    \n",
    "    \n",
    "    print(\"after encoding target the shape is\",y.shape)\n",
    "    \n",
    "    X_train, X_test, y_train, y_test = train_test_split(X, y, test_size=0.3, random_state=42)\n",
    "    \n",
    "    from sklearn.neighbors import KNeighborsClassifier\n",
    "\n",
    "    from sklearn.neighbors import KNeighborsClassifier\n",
    "    model=KNeighborsClassifier(n_neighbors=5)\n",
    "    model.fit(x_train,y_train)\n",
    "\n",
    "    \n",
    "    n = len(X)\n",
    "    fold_size = n // k\n",
    "    scores = []\n",
    "\n",
    "    # Shuffle the data randomly\n",
    "    indices = np.random.permutation(n)\n",
    "    X_shuffled = X[indices]\n",
    "    y_shuffled = y[indices]\n",
    "\n",
    "    # Perform k-fold cross-validation\n",
    "    for i in range(k):\n",
    "        # Prepare the training and testing data for this fold\n",
    "        start = i * fold_size\n",
    "        end = start + fold_size\n",
    "\n",
    "        X_test = X_shuffled[start:end]\n",
    "        y_test = y_shuffled[start:end]\n",
    "\n",
    "        X_train = np.concatenate((X_shuffled[:start], X_shuffled[end:]), axis=0)\n",
    "        y_train = np.concatenate((y_shuffled[:start], y_shuffled[end:]), axis=0)\n",
    "\n",
    "        print(len(x_train))\n",
    "        print(len(x_test))\n",
    "#         print(y_train.shape)\n",
    "        \n",
    "        # Train the model on the training data\n",
    "        model.fit(X_train, y_train)\n",
    "\n",
    "        # Evaluate the model on the testing data\n",
    "        ac= model.score(X_test, y_test)\n",
    "#         score=[]\n",
    "\n",
    "        scores.append(ac)\n",
    "\n",
    "    return scores\n",
    "\n",
    "\n",
    "\n",
    "\n",
    "scores=k_fold_cross_validation(X, y, k,model)\n",
    "print(scores)"
   ]
  },
  {
   "cell_type": "code",
   "execution_count": 270,
   "id": "fc15783c",
   "metadata": {},
   "outputs": [],
   "source": [
    "import tensorflow as tf"
   ]
  },
  {
   "cell_type": "code",
   "execution_count": null,
   "id": "140b9a43",
   "metadata": {},
   "outputs": [],
   "source": [
    "ft.keras.layers.SimpleRNN(rnn_units)"
   ]
  },
  {
   "cell_type": "code",
   "execution_count": null,
   "id": "d9f279be",
   "metadata": {},
   "outputs": [],
   "source": []
  },
  {
   "cell_type": "code",
   "execution_count": null,
   "id": "80ce8823",
   "metadata": {},
   "outputs": [],
   "source": []
  },
  {
   "cell_type": "code",
   "execution_count": null,
   "id": "7aa376c6",
   "metadata": {},
   "outputs": [],
   "source": []
  },
  {
   "cell_type": "code",
   "execution_count": null,
   "id": "0a318f8f",
   "metadata": {},
   "outputs": [],
   "source": []
  },
  {
   "cell_type": "code",
   "execution_count": null,
   "id": "02162f3a",
   "metadata": {},
   "outputs": [],
   "source": []
  },
  {
   "cell_type": "code",
   "execution_count": null,
   "id": "3540b105",
   "metadata": {},
   "outputs": [],
   "source": []
  },
  {
   "cell_type": "code",
   "execution_count": null,
   "id": "0fd73122",
   "metadata": {},
   "outputs": [],
   "source": []
  },
  {
   "cell_type": "code",
   "execution_count": null,
   "id": "133b5124",
   "metadata": {},
   "outputs": [],
   "source": []
  },
  {
   "cell_type": "code",
   "execution_count": null,
   "id": "51573a82",
   "metadata": {},
   "outputs": [],
   "source": []
  },
  {
   "cell_type": "code",
   "execution_count": null,
   "id": "26a2f0cd",
   "metadata": {},
   "outputs": [],
   "source": []
  },
  {
   "cell_type": "code",
   "execution_count": null,
   "id": "a28cc23f",
   "metadata": {},
   "outputs": [],
   "source": []
  },
  {
   "cell_type": "code",
   "execution_count": null,
   "id": "7622d337",
   "metadata": {},
   "outputs": [],
   "source": []
  },
  {
   "cell_type": "code",
   "execution_count": null,
   "id": "97cdf4d0",
   "metadata": {},
   "outputs": [],
   "source": []
  }
 ],
 "metadata": {
  "kernelspec": {
   "display_name": "Python 3 (ipykernel)",
   "language": "python",
   "name": "python3"
  },
  "language_info": {
   "codemirror_mode": {
    "name": "ipython",
    "version": 3
   },
   "file_extension": ".py",
   "mimetype": "text/x-python",
   "name": "python",
   "nbconvert_exporter": "python",
   "pygments_lexer": "ipython3",
   "version": "3.11.4"
  }
 },
 "nbformat": 4,
 "nbformat_minor": 5
}
